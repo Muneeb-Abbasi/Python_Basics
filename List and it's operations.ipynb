{
 "cells": [
  {
   "cell_type": "code",
   "execution_count": 58,
   "id": "5456b0ef",
   "metadata": {},
   "outputs": [],
   "source": [
    "#import library for array\n",
    "from array import* "
   ]
  },
  {
   "cell_type": "code",
   "execution_count": 59,
   "id": "05d18358",
   "metadata": {},
   "outputs": [
    {
     "name": "stdout",
     "output_type": "stream",
     "text": [
      "array('i', [1, 2, 3, 4, 5])\n"
     ]
    }
   ],
   "source": [
    "#create array\n",
    "my_ar = array('i',[1,2,3,4,5])\n",
    "print(my_ar)"
   ]
  },
  {
   "cell_type": "code",
   "execution_count": 60,
   "id": "4a58d468",
   "metadata": {},
   "outputs": [
    {
     "name": "stdout",
     "output_type": "stream",
     "text": [
      "array('i', [1, 2, 3, 4, 5, 10])\n"
     ]
    }
   ],
   "source": [
    "#append any element to array\n",
    "my_ar.append(10)\n",
    "print(my_ar)"
   ]
  },
  {
   "cell_type": "code",
   "execution_count": 61,
   "id": "db4d92c2",
   "metadata": {},
   "outputs": [
    {
     "data": {
      "text/plain": [
       "array('i', [1, 2, 3, 4, 5, 10, 2, 3, 4, 5])"
      ]
     },
     "execution_count": 61,
     "metadata": {},
     "output_type": "execute_result"
    }
   ],
   "source": [
    "#if you want add multiple elements to array\n",
    "my_ar.extend([2,3,4,5])\n",
    "my_ar"
   ]
  },
  {
   "cell_type": "code",
   "execution_count": 62,
   "id": "04819881",
   "metadata": {},
   "outputs": [
    {
     "data": {
      "text/plain": [
       "array('i', [0, 1, 2, 3, 4, 5, 10, 2, 3, 4, 5])"
      ]
     },
     "execution_count": 62,
     "metadata": {},
     "output_type": "execute_result"
    }
   ],
   "source": [
    "#insert any element to specific location\n",
    "my_ar.insert(0,0)\n",
    "my_ar"
   ]
  },
  {
   "cell_type": "code",
   "execution_count": 63,
   "id": "4b01c4a2",
   "metadata": {},
   "outputs": [
    {
     "data": {
      "text/plain": [
       "array('i', [0, -1, 2, 3, 4, 5, 10, 2, 3, 4, 5])"
      ]
     },
     "execution_count": 63,
     "metadata": {},
     "output_type": "execute_result"
    }
   ],
   "source": [
    "#update any value using index value\n",
    "my_ar[1] = -1\n",
    "my_ar"
   ]
  },
  {
   "cell_type": "code",
   "execution_count": 64,
   "id": "c227eee2",
   "metadata": {},
   "outputs": [
    {
     "name": "stdout",
     "output_type": "stream",
     "text": [
      "0\n",
      "-1\n",
      "2\n",
      "3\n",
      "4\n",
      "5\n",
      "10\n",
      "2\n",
      "3\n",
      "4\n",
      "5\n"
     ]
    }
   ],
   "source": [
    "#perform for loop on array\n",
    "for i in my_ar:\n",
    "    print(i)"
   ]
  },
  {
   "cell_type": "code",
   "execution_count": 65,
   "id": "3d64803d",
   "metadata": {},
   "outputs": [
    {
     "data": {
      "text/plain": [
       "array('i', [-1, 2, 3, 4, 5, 10, 2, 3, 4, 5])"
      ]
     },
     "execution_count": 65,
     "metadata": {},
     "output_type": "execute_result"
    }
   ],
   "source": [
    "#remove any element from your array\n",
    "my_ar.pop(0)\n",
    "my_ar"
   ]
  },
  {
   "cell_type": "code",
   "execution_count": 66,
   "id": "3e7f57e4",
   "metadata": {},
   "outputs": [
    {
     "data": {
      "text/plain": [
       "1"
      ]
     },
     "execution_count": 66,
     "metadata": {},
     "output_type": "execute_result"
    }
   ],
   "source": [
    "#find index value of any element\n",
    "a = my_ar.index(2)\n",
    "a"
   ]
  },
  {
   "cell_type": "markdown",
   "id": "0c1e58d6",
   "metadata": {},
   "source": [
    "# DSA Lab Second Task\n",
    "\n"
   ]
  },
  {
   "cell_type": "code",
   "execution_count": 67,
   "id": "3b37f2b0",
   "metadata": {},
   "outputs": [
    {
     "name": "stdout",
     "output_type": "stream",
     "text": [
      "Welcome you all in the course of Data Structures!\n"
     ]
    }
   ],
   "source": [
    "#Part 1 \n",
    "print(\"Welcome you all in the course of Data Structures!\")\n",
    "\n",
    "#Part 2\n",
    "dsastring = \"Muneeb\"\n",
    "dsafloat = 15.5\n",
    "dsaint = 50\n"
   ]
  },
  {
   "cell_type": "code",
   "execution_count": 68,
   "id": "6d84f755",
   "metadata": {},
   "outputs": [],
   "source": [
    "#Part 3 \n",
    "even_array = array('i',[2,4,6,8,10,12,14,16,18,20])\n",
    "odd_array = array('b',[1,3,5,7,9,11,13,15,17,19])\n"
   ]
  },
  {
   "cell_type": "code",
   "execution_count": 69,
   "id": "0c30daaf",
   "metadata": {},
   "outputs": [
    {
     "name": "stdout",
     "output_type": "stream",
     "text": [
      "2\n",
      "4\n",
      "6\n",
      "8\n",
      "10\n",
      "12\n",
      "14\n",
      "16\n",
      "18\n",
      "20\n"
     ]
    }
   ],
   "source": [
    "#Perform Traversing on both arrays to print array elements on by on\n",
    "\n",
    "#traversing for even numbers array\n",
    "for i in even_array:\n",
    "    print(i)"
   ]
  },
  {
   "cell_type": "code",
   "execution_count": 70,
   "id": "64f6d817",
   "metadata": {},
   "outputs": [
    {
     "name": "stdout",
     "output_type": "stream",
     "text": [
      "1\n",
      "3\n",
      "5\n",
      "7\n",
      "9\n",
      "11\n",
      "13\n",
      "15\n",
      "17\n",
      "19\n"
     ]
    }
   ],
   "source": [
    "#traversing for even numbers array\n",
    "for j in odd_array:\n",
    "    print(j)"
   ]
  },
  {
   "cell_type": "code",
   "execution_count": 71,
   "id": "f612e3d2",
   "metadata": {},
   "outputs": [
    {
     "data": {
      "text/plain": [
       "array('i', [2, 4, 6, 8, 10, 12, 14, 16, 18, 20, 22, 24, 26])"
      ]
     },
     "execution_count": 71,
     "metadata": {},
     "output_type": "execute_result"
    }
   ],
   "source": [
    "#Insertion on both arrays, insertion is like adding elements to  array\n",
    "\n",
    "#insert/add elements to even_array\n",
    "even_array.append(22)\n",
    "\n",
    "#insert/add multiple elements to array\n",
    "even_array.extend([24,26])\n",
    "\n",
    "even_array"
   ]
  },
  {
   "cell_type": "code",
   "execution_count": 72,
   "id": "39e5fd72",
   "metadata": {},
   "outputs": [
    {
     "data": {
      "text/plain": [
       "array('b', [1, 3, 5, 7, 9, 11, 13, 15, 17, 19, 21, 23, 25])"
      ]
     },
     "execution_count": 72,
     "metadata": {},
     "output_type": "execute_result"
    }
   ],
   "source": [
    "#insert/add elements to odd_array\n",
    "odd_array.append(21)\n",
    "\n",
    "#insert/add multiple elements to array\n",
    "odd_array.extend([23,25])\n",
    "\n",
    "odd_array"
   ]
  },
  {
   "cell_type": "code",
   "execution_count": 73,
   "id": "c1f22b16",
   "metadata": {},
   "outputs": [
    {
     "data": {
      "text/plain": [
       "array('i', [2, 4, 6, 8, 10, 12, 14, 16, 18, 20, 22, 24])"
      ]
     },
     "execution_count": 73,
     "metadata": {},
     "output_type": "execute_result"
    }
   ],
   "source": [
    "#Perform Deletion operation on Array\n",
    "\n",
    "#Delete/Remove any element from even_array\n",
    "even_array.remove(26)\n",
    "even_array\n",
    "\n"
   ]
  },
  {
   "cell_type": "code",
   "execution_count": 74,
   "id": "e4b4682b",
   "metadata": {},
   "outputs": [
    {
     "data": {
      "text/plain": [
       "array('b', [1, 3, 5, 7, 9, 11, 13, 15, 17, 19, 21, 23])"
      ]
     },
     "execution_count": 74,
     "metadata": {},
     "output_type": "execute_result"
    }
   ],
   "source": [
    "# Delete/Remove any element from odd_array\n",
    "odd_array.remove(25)\n",
    "odd_array"
   ]
  },
  {
   "cell_type": "code",
   "execution_count": 75,
   "id": "c1341c74",
   "metadata": {},
   "outputs": [
    {
     "name": "stdout",
     "output_type": "stream",
     "text": [
      "0\n",
      "6\n",
      "array('i', [6, 8, 10, 12, 14, 16])\n",
      "3\n",
      "11\n",
      "array('b', [1, 3, 5, 7, 9, 11, 13, 15, 17, 19])\n"
     ]
    }
   ],
   "source": [
    "# Serching Operation on array, searching is like finding any element using index\n",
    "\n",
    "#Search Operation for index value on even_array using element\n",
    "\n",
    "#it prints index of element '2' which is 0\n",
    "\n",
    "print(even_array.index(2))\n",
    "\n",
    "#it prints value at index '2' which 6\n",
    "print(even_array[2])\n",
    "\n",
    "#it prints values from index 2 to index 7\n",
    "print(even_array[2:8])\n",
    "\n",
    "\n",
    "#Search Operation for index value on odd_array using element\n",
    "\n",
    "#it prints index of element '2' which is 3\n",
    "print(odd_array.index(7))\n",
    "\n",
    "#it prints value at index '2' which is 11\n",
    "print(odd_array[5])\n",
    "\n",
    "#it prints values from index 0 to index 9\n",
    "print(odd_array[0:10])\n",
    "\n"
   ]
  },
  {
   "cell_type": "code",
   "execution_count": 76,
   "id": "66d5223b",
   "metadata": {},
   "outputs": [
    {
     "name": "stdout",
     "output_type": "stream",
     "text": [
      "array('i', [2, 4, 6, 32, 10, 12, 14, 16, 18, 20, 22, 24])\n",
      "array('b', [1, 3, 5, 7, 9, 11, 13, 27, 17, 19, 21, 23])\n"
     ]
    }
   ],
   "source": [
    "#Update operation can perform on arrays to change/modify array elements\n",
    "\n",
    "#update operation even_array\n",
    "\n",
    "#i am changing element at index 3\n",
    "even_array[3] = 32\n",
    "print(even_array)\n",
    "\n",
    "\n",
    "#update operation odd_array\n",
    "\n",
    "#i am changing element at index 7\n",
    "odd_array[7] = 27\n",
    "print(odd_array)\n"
   ]
  },
  {
   "cell_type": "markdown",
   "id": "f21f5cc4",
   "metadata": {},
   "source": [
    "# Task Number Two DSA Lab of Muneeb Ahmed Abbasi\n"
   ]
  },
  {
   "cell_type": "markdown",
   "id": "5da69cf2",
   "metadata": {},
   "source": [
    "# Create an array of your semester courses and perform following operations on Array using python"
   ]
  },
  {
   "cell_type": "markdown",
   "id": "b5d79303",
   "metadata": {},
   "source": [
    "# ⦁\tTraverse-Insertion-Deletion-Search-Update \n"
   ]
  },
  {
   "cell_type": "markdown",
   "id": "6b856dbf",
   "metadata": {},
   "source": [
    "#my_courses = ['ICT','Calculus','DSA','Intro to Python','English1','English2','DBMS','Artificial Intelligence']\n",
    "\n",
    "# Traverse Operation on my_courses\n",
    "## it prints elements step by step\n"
   ]
  },
  {
   "cell_type": "code",
   "execution_count": 86,
   "id": "d0e72d7e",
   "metadata": {},
   "outputs": [
    {
     "name": "stdout",
     "output_type": "stream",
     "text": [
      "ICT\n",
      "Calculus\n",
      "DSA\n",
      "Intro to Python\n",
      "English1\n",
      "English2\n",
      "DBMS\n",
      "Artificial Intelligence\n"
     ]
    }
   ],
   "source": [
    "for course in my_courses:\n",
    "    print(course)"
   ]
  },
  {
   "cell_type": "markdown",
   "id": "5a99bb95",
   "metadata": {},
   "source": [
    "# Insertion Operation on My_Courses array to add another course"
   ]
  },
  {
   "cell_type": "code",
   "execution_count": 87,
   "id": "a5507f72",
   "metadata": {},
   "outputs": [
    {
     "data": {
      "text/plain": [
       "['ICT',\n",
       " 'Calculus',\n",
       " 'DSA',\n",
       " 'Intro to Python',\n",
       " 'English1',\n",
       " 'English2',\n",
       " 'DBMS',\n",
       " 'Artificial Intelligence',\n",
       " 'Operating System',\n",
       " 'Machine Learing',\n",
       " 'Deep Learning']"
      ]
     },
     "execution_count": 87,
     "metadata": {},
     "output_type": "execute_result"
    }
   ],
   "source": [
    "my_courses.append('Operating System')\n",
    "my_courses.extend(['Machine Learing','Deep Learning'])\n",
    "my_courses"
   ]
  },
  {
   "cell_type": "markdown",
   "id": "9eda04df",
   "metadata": {},
   "source": [
    "# Deletion Operation on My_Courses to remove a course"
   ]
  },
  {
   "cell_type": "code",
   "execution_count": 88,
   "id": "93241cd5",
   "metadata": {},
   "outputs": [
    {
     "data": {
      "text/plain": [
       "['ICT',\n",
       " 'Calculus',\n",
       " 'DSA',\n",
       " 'Intro to Python',\n",
       " 'English1',\n",
       " 'English2',\n",
       " 'DBMS',\n",
       " 'Artificial Intelligence',\n",
       " 'Machine Learing',\n",
       " 'Deep Learning']"
      ]
     },
     "execution_count": 88,
     "metadata": {},
     "output_type": "execute_result"
    }
   ],
   "source": [
    "my_courses.remove('Operating System')\n",
    "my_courses"
   ]
  },
  {
   "cell_type": "code",
   "execution_count": 90,
   "id": "38a415db",
   "metadata": {},
   "outputs": [
    {
     "data": {
      "text/plain": [
       "['Calculus',\n",
       " 'DSA',\n",
       " 'Intro to Python',\n",
       " 'English1',\n",
       " 'English2',\n",
       " 'DBMS',\n",
       " 'Artificial Intelligence',\n",
       " 'Machine Learing',\n",
       " 'Deep Learning']"
      ]
     },
     "execution_count": 90,
     "metadata": {},
     "output_type": "execute_result"
    }
   ],
   "source": [
    "#pop deletes any element using index \n",
    "my_courses.pop(0)\n",
    "my_courses"
   ]
  },
  {
   "cell_type": "markdown",
   "id": "c3282ac1",
   "metadata": {},
   "source": [
    "# Search Operation on array my_courses "
   ]
  },
  {
   "cell_type": "code",
   "execution_count": 93,
   "id": "02aaba88",
   "metadata": {},
   "outputs": [
    {
     "name": "stdout",
     "output_type": "stream",
     "text": [
      "['DSA', 'Intro to Python', 'English1']\n",
      "Deep Learning\n"
     ]
    }
   ],
   "source": [
    "#search or find elements using index values slicing\n",
    "\n",
    "#it print element from index 1 to 3\n",
    "print(my_courses[1:4])\n",
    "\n",
    "#i can print last element of my array using '-1'\n",
    "print(my_courses[-1])"
   ]
  },
  {
   "cell_type": "markdown",
   "id": "398a1a64",
   "metadata": {},
   "source": [
    "# Update Operation on array my_courses"
   ]
  },
  {
   "cell_type": "code",
   "execution_count": 94,
   "id": "fcd43720",
   "metadata": {},
   "outputs": [
    {
     "data": {
      "text/plain": [
       "['Calculus',\n",
       " 'Data Structure and Algorithms',\n",
       " 'Intro to Python',\n",
       " 'English1',\n",
       " 'English2',\n",
       " 'DBMS',\n",
       " 'Artificial Intelligence',\n",
       " 'Machine Learing',\n",
       " 'Deep Learning']"
      ]
     },
     "execution_count": 94,
     "metadata": {},
     "output_type": "execute_result"
    }
   ],
   "source": [
    "#i am updating element at index 1 \n",
    "my_courses[1] = 'Data Structure and Algorithms'\n",
    "my_courses"
   ]
  },
  {
   "cell_type": "code",
   "execution_count": null,
   "id": "1762fcdf",
   "metadata": {},
   "outputs": [],
   "source": []
  }
 ],
 "metadata": {
  "kernelspec": {
   "display_name": "Python 3 (ipykernel)",
   "language": "python",
   "name": "python3"
  },
  "language_info": {
   "codemirror_mode": {
    "name": "ipython",
    "version": 3
   },
   "file_extension": ".py",
   "mimetype": "text/x-python",
   "name": "python",
   "nbconvert_exporter": "python",
   "pygments_lexer": "ipython3",
   "version": "3.9.7"
  }
 },
 "nbformat": 4,
 "nbformat_minor": 5
}
